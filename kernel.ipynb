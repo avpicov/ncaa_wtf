{
  "cells": [
    {
      "metadata": {
        "_uuid": "9853586a0dc75ce39e7c7ffcde1eb4d47c6fb02e"
      },
      "cell_type": "markdown",
      "source": "## Overview ##\n\nThis is a starter notebook inspired by the 2017 [Logistic Regression on Tournament Seeds by Kasper P. Lauritzen](https://www.kaggle.com/kplauritzen/notebookde27b18258?scriptVersionId=804590) starter kernel. It creates a basic logistic regression model based on the seed differences between teams. \n\nNote that the predictions for Stage 1's sample submissions file are already based on known outcomes, and the Tourney data this model is trained on includes that data. For Stage 2, you will be predicting future outcomes based on the teams selected for the tournament on March 17."
    },
    {
      "metadata": {
        "_uuid": "5464dc4b196dc4c8dd0323bbd71b75724113e2af",
        "_cell_guid": "0c233e05-c63d-4866-96dc-bb38d444bf84",
        "trusted": true
      },
      "cell_type": "code",
      "source": "# This Python 3 environment comes with many helpful analytics libraries installed\n# It is defined by the kaggle/python docker image: https://github.com/kaggle/docker-python\n# For example, here's several helpful packages to load in \nimport numpy as np # linear algebra\nimport pandas as pd # data processing, CSV file I/O (e.g. pd.read_csv)\nfrom sklearn.linear_model import LogisticRegression\nimport matplotlib.pyplot as plt\nfrom sklearn.utils import shuffle\nfrom sklearn.model_selection import GridSearchCV\n\n# Input data files are available in the \"../input/\" directory.\n# For example, running this (by clicking run or pressing Shift+Enter) will list the files in the input directory\n\nfrom subprocess import check_output\nprint(check_output([\"ls\", \"../input\"]).decode(\"utf8\"))\n\n# Any results you write to the current directory are saved as output.\n",
      "execution_count": 1,
      "outputs": [
        {
          "output_type": "stream",
          "text": "Prelim2019_Cities.csv\nPrelim2019_ConferenceTourneyGames.csv\nPrelim2019_GameCities.csv\nPrelim2019_RegularSeasonDetailedResults.csv\nPrelim2019_TeamCoaches.csv\nSampleSubmissionStage1.csv\nSampleSubmissionStage2.csv\ndatafiles\nmasseyordinals\nmasseyordinals_thru_2019_day_128\nplaybyplay_2010\nplaybyplay_2011\nplaybyplay_2012\nplaybyplay_2013\nplaybyplay_2014\nplaybyplay_2015\nplaybyplay_2016\nplaybyplay_2017\nplaybyplay_2018\nplaybyplay_2019\nprelim2019_masseyordinals\nprelim2019_playbyplay_2019\nprelim2019_regularseasoncompactresults\nstage2datafiles\n\n",
          "name": "stdout"
        }
      ]
    },
    {
      "metadata": {
        "_uuid": "819472385a23f3fd5aaf4172b4f8db227cf5271f"
      },
      "cell_type": "markdown",
      "source": "## Load the training data ##\nWe're keeping it simple & using only 2 files for this model: the Tourney seeds & Compact results."
    },
    {
      "metadata": {
        "trusted": true,
        "_uuid": "bf8ee168a0372e883332d6bb0ce5c89c13143650"
      },
      "cell_type": "code",
      "source": "data_dir = '../input/'\ndf_seeds = pd.read_csv(data_dir + 'stage2datafiles/NCAATourneySeeds.csv')\ndf_tour = pd.read_csv(data_dir + 'stage2datafiles/NCAATourneyCompactResults.csv')",
      "execution_count": 25,
      "outputs": []
    },
    {
      "metadata": {
        "trusted": true,
        "_uuid": "9f32e5f9104b7f10d3de7b38d3f292aef045c30f"
      },
      "cell_type": "code",
      "source": "df_seeds.head()",
      "execution_count": 26,
      "outputs": [
        {
          "output_type": "execute_result",
          "execution_count": 26,
          "data": {
            "text/plain": "   Season Seed  TeamID\n0    1985  W01    1207\n1    1985  W02    1210\n2    1985  W03    1228\n3    1985  W04    1260\n4    1985  W05    1374",
            "text/html": "<div>\n<style scoped>\n    .dataframe tbody tr th:only-of-type {\n        vertical-align: middle;\n    }\n\n    .dataframe tbody tr th {\n        vertical-align: top;\n    }\n\n    .dataframe thead th {\n        text-align: right;\n    }\n</style>\n<table border=\"1\" class=\"dataframe\">\n  <thead>\n    <tr style=\"text-align: right;\">\n      <th></th>\n      <th>Season</th>\n      <th>Seed</th>\n      <th>TeamID</th>\n    </tr>\n  </thead>\n  <tbody>\n    <tr>\n      <th>0</th>\n      <td>1985</td>\n      <td>W01</td>\n      <td>1207</td>\n    </tr>\n    <tr>\n      <th>1</th>\n      <td>1985</td>\n      <td>W02</td>\n      <td>1210</td>\n    </tr>\n    <tr>\n      <th>2</th>\n      <td>1985</td>\n      <td>W03</td>\n      <td>1228</td>\n    </tr>\n    <tr>\n      <th>3</th>\n      <td>1985</td>\n      <td>W04</td>\n      <td>1260</td>\n    </tr>\n    <tr>\n      <th>4</th>\n      <td>1985</td>\n      <td>W05</td>\n      <td>1374</td>\n    </tr>\n  </tbody>\n</table>\n</div>"
          },
          "metadata": {}
        }
      ]
    },
    {
      "metadata": {
        "trusted": true,
        "_uuid": "dcb3b4cc84f09ea5af4d52da4fd970928e14bfc1"
      },
      "cell_type": "code",
      "source": "df_tour.head()",
      "execution_count": 27,
      "outputs": [
        {
          "output_type": "execute_result",
          "execution_count": 27,
          "data": {
            "text/plain": "   Season  DayNum  WTeamID  WScore  LTeamID  LScore WLoc  NumOT\n0    1985     136     1116      63     1234      54    N      0\n1    1985     136     1120      59     1345      58    N      0\n2    1985     136     1207      68     1250      43    N      0\n3    1985     136     1229      58     1425      55    N      0\n4    1985     136     1242      49     1325      38    N      0",
            "text/html": "<div>\n<style scoped>\n    .dataframe tbody tr th:only-of-type {\n        vertical-align: middle;\n    }\n\n    .dataframe tbody tr th {\n        vertical-align: top;\n    }\n\n    .dataframe thead th {\n        text-align: right;\n    }\n</style>\n<table border=\"1\" class=\"dataframe\">\n  <thead>\n    <tr style=\"text-align: right;\">\n      <th></th>\n      <th>Season</th>\n      <th>DayNum</th>\n      <th>WTeamID</th>\n      <th>WScore</th>\n      <th>LTeamID</th>\n      <th>LScore</th>\n      <th>WLoc</th>\n      <th>NumOT</th>\n    </tr>\n  </thead>\n  <tbody>\n    <tr>\n      <th>0</th>\n      <td>1985</td>\n      <td>136</td>\n      <td>1116</td>\n      <td>63</td>\n      <td>1234</td>\n      <td>54</td>\n      <td>N</td>\n      <td>0</td>\n    </tr>\n    <tr>\n      <th>1</th>\n      <td>1985</td>\n      <td>136</td>\n      <td>1120</td>\n      <td>59</td>\n      <td>1345</td>\n      <td>58</td>\n      <td>N</td>\n      <td>0</td>\n    </tr>\n    <tr>\n      <th>2</th>\n      <td>1985</td>\n      <td>136</td>\n      <td>1207</td>\n      <td>68</td>\n      <td>1250</td>\n      <td>43</td>\n      <td>N</td>\n      <td>0</td>\n    </tr>\n    <tr>\n      <th>3</th>\n      <td>1985</td>\n      <td>136</td>\n      <td>1229</td>\n      <td>58</td>\n      <td>1425</td>\n      <td>55</td>\n      <td>N</td>\n      <td>0</td>\n    </tr>\n    <tr>\n      <th>4</th>\n      <td>1985</td>\n      <td>136</td>\n      <td>1242</td>\n      <td>49</td>\n      <td>1325</td>\n      <td>38</td>\n      <td>N</td>\n      <td>0</td>\n    </tr>\n  </tbody>\n</table>\n</div>"
          },
          "metadata": {}
        }
      ]
    },
    {
      "metadata": {
        "_uuid": "42f99f53dd385e23b09378e0de9d3fce5eb1a2e9"
      },
      "cell_type": "markdown",
      "source": "First, we'll simplify the datasets to remove the columns we won't be using and convert the seedings to the needed format (stripping the regional abbreviation in front of the seed)."
    },
    {
      "metadata": {
        "trusted": true,
        "_uuid": "fcb18269a41cfa257bd97c40664e43e701251bed"
      },
      "cell_type": "code",
      "source": "def seed_to_int(seed):\n    #Get just the digits from the seeding. Return as int\n    s_int = int(seed[1:3])\n    return s_int\ndf_seeds['seed_int'] = df_seeds.Seed.apply(seed_to_int)\ndf_seeds.drop(labels=['Seed'], inplace=True, axis=1) # This is the string label\ndf_seeds.head()",
      "execution_count": 28,
      "outputs": [
        {
          "output_type": "execute_result",
          "execution_count": 28,
          "data": {
            "text/plain": "   Season  TeamID  seed_int\n0    1985    1207         1\n1    1985    1210         2\n2    1985    1228         3\n3    1985    1260         4\n4    1985    1374         5",
            "text/html": "<div>\n<style scoped>\n    .dataframe tbody tr th:only-of-type {\n        vertical-align: middle;\n    }\n\n    .dataframe tbody tr th {\n        vertical-align: top;\n    }\n\n    .dataframe thead th {\n        text-align: right;\n    }\n</style>\n<table border=\"1\" class=\"dataframe\">\n  <thead>\n    <tr style=\"text-align: right;\">\n      <th></th>\n      <th>Season</th>\n      <th>TeamID</th>\n      <th>seed_int</th>\n    </tr>\n  </thead>\n  <tbody>\n    <tr>\n      <th>0</th>\n      <td>1985</td>\n      <td>1207</td>\n      <td>1</td>\n    </tr>\n    <tr>\n      <th>1</th>\n      <td>1985</td>\n      <td>1210</td>\n      <td>2</td>\n    </tr>\n    <tr>\n      <th>2</th>\n      <td>1985</td>\n      <td>1228</td>\n      <td>3</td>\n    </tr>\n    <tr>\n      <th>3</th>\n      <td>1985</td>\n      <td>1260</td>\n      <td>4</td>\n    </tr>\n    <tr>\n      <th>4</th>\n      <td>1985</td>\n      <td>1374</td>\n      <td>5</td>\n    </tr>\n  </tbody>\n</table>\n</div>"
          },
          "metadata": {}
        }
      ]
    },
    {
      "metadata": {
        "trusted": true,
        "_uuid": "1f6ecb82fa587f5a95a6833cd224b01407f5c90a"
      },
      "cell_type": "code",
      "source": "df_tour.drop(labels=['DayNum', 'WScore', 'LScore', 'WLoc', 'NumOT'], inplace=True, axis=1)\ndf_tour.head()",
      "execution_count": 29,
      "outputs": [
        {
          "output_type": "execute_result",
          "execution_count": 29,
          "data": {
            "text/plain": "   Season  WTeamID  LTeamID\n0    1985     1116     1234\n1    1985     1120     1345\n2    1985     1207     1250\n3    1985     1229     1425\n4    1985     1242     1325",
            "text/html": "<div>\n<style scoped>\n    .dataframe tbody tr th:only-of-type {\n        vertical-align: middle;\n    }\n\n    .dataframe tbody tr th {\n        vertical-align: top;\n    }\n\n    .dataframe thead th {\n        text-align: right;\n    }\n</style>\n<table border=\"1\" class=\"dataframe\">\n  <thead>\n    <tr style=\"text-align: right;\">\n      <th></th>\n      <th>Season</th>\n      <th>WTeamID</th>\n      <th>LTeamID</th>\n    </tr>\n  </thead>\n  <tbody>\n    <tr>\n      <th>0</th>\n      <td>1985</td>\n      <td>1116</td>\n      <td>1234</td>\n    </tr>\n    <tr>\n      <th>1</th>\n      <td>1985</td>\n      <td>1120</td>\n      <td>1345</td>\n    </tr>\n    <tr>\n      <th>2</th>\n      <td>1985</td>\n      <td>1207</td>\n      <td>1250</td>\n    </tr>\n    <tr>\n      <th>3</th>\n      <td>1985</td>\n      <td>1229</td>\n      <td>1425</td>\n    </tr>\n    <tr>\n      <th>4</th>\n      <td>1985</td>\n      <td>1242</td>\n      <td>1325</td>\n    </tr>\n  </tbody>\n</table>\n</div>"
          },
          "metadata": {}
        }
      ]
    },
    {
      "metadata": {
        "_uuid": "3f223cdf4446d6e9c77ab8319237f05393d1a822"
      },
      "cell_type": "markdown",
      "source": "## Merge seed for each team ##\nMerge the Seeds with their corresponding TeamIDs in the compact results dataframe."
    },
    {
      "metadata": {
        "trusted": true,
        "_uuid": "53638c1ae27cfb24d47e02007c293d5ee19ebdac"
      },
      "cell_type": "code",
      "source": "df_winseeds = df_seeds.rename(columns={'TeamID':'WTeamID', 'seed_int':'WSeed'})\ndf_lossseeds = df_seeds.rename(columns={'TeamID':'LTeamID', 'seed_int':'LSeed'})\ndf_dummy = pd.merge(left=df_tour, right=df_winseeds, how='left', on=['Season', 'WTeamID'])\ndf_concat = pd.merge(left=df_dummy, right=df_lossseeds, on=['Season', 'LTeamID'])\ndf_concat['SeedDiff'] = df_concat.WSeed - df_concat.LSeed\ndf_concat.head()",
      "execution_count": 30,
      "outputs": [
        {
          "output_type": "execute_result",
          "execution_count": 30,
          "data": {
            "text/plain": "   Season  WTeamID  LTeamID  WSeed  LSeed  SeedDiff\n0    1985     1116     1234      9      8         1\n1    1985     1120     1345     11      6         5\n2    1985     1207     1250      1     16       -15\n3    1985     1229     1425      9      8         1\n4    1985     1242     1325      3     14       -11",
            "text/html": "<div>\n<style scoped>\n    .dataframe tbody tr th:only-of-type {\n        vertical-align: middle;\n    }\n\n    .dataframe tbody tr th {\n        vertical-align: top;\n    }\n\n    .dataframe thead th {\n        text-align: right;\n    }\n</style>\n<table border=\"1\" class=\"dataframe\">\n  <thead>\n    <tr style=\"text-align: right;\">\n      <th></th>\n      <th>Season</th>\n      <th>WTeamID</th>\n      <th>LTeamID</th>\n      <th>WSeed</th>\n      <th>LSeed</th>\n      <th>SeedDiff</th>\n    </tr>\n  </thead>\n  <tbody>\n    <tr>\n      <th>0</th>\n      <td>1985</td>\n      <td>1116</td>\n      <td>1234</td>\n      <td>9</td>\n      <td>8</td>\n      <td>1</td>\n    </tr>\n    <tr>\n      <th>1</th>\n      <td>1985</td>\n      <td>1120</td>\n      <td>1345</td>\n      <td>11</td>\n      <td>6</td>\n      <td>5</td>\n    </tr>\n    <tr>\n      <th>2</th>\n      <td>1985</td>\n      <td>1207</td>\n      <td>1250</td>\n      <td>1</td>\n      <td>16</td>\n      <td>-15</td>\n    </tr>\n    <tr>\n      <th>3</th>\n      <td>1985</td>\n      <td>1229</td>\n      <td>1425</td>\n      <td>9</td>\n      <td>8</td>\n      <td>1</td>\n    </tr>\n    <tr>\n      <th>4</th>\n      <td>1985</td>\n      <td>1242</td>\n      <td>1325</td>\n      <td>3</td>\n      <td>14</td>\n      <td>-11</td>\n    </tr>\n  </tbody>\n</table>\n</div>"
          },
          "metadata": {}
        }
      ]
    },
    {
      "metadata": {
        "_uuid": "1c82f60c02545c8c46ab090cb8cefca48e48e434"
      },
      "cell_type": "markdown",
      "source": "Now we'll create a dataframe that summarizes wins & losses along with their corresponding seed differences. This is the meat of what we'll be creating our model on."
    },
    {
      "metadata": {
        "trusted": true,
        "_uuid": "1a40000e85c0dd9d2be6850a767acd736bf5f182"
      },
      "cell_type": "code",
      "source": "df_wins = pd.DataFrame()\ndf_wins['SeedDiff'] = df_concat['SeedDiff']\ndf_wins['Result'] = 1\n\ndf_losses = pd.DataFrame()\ndf_losses['SeedDiff'] = -df_concat['SeedDiff']\ndf_losses['Result'] = 0\n\ndf_predictions = pd.concat((df_wins, df_losses))\ndf_predictions.head()",
      "execution_count": 31,
      "outputs": [
        {
          "output_type": "execute_result",
          "execution_count": 31,
          "data": {
            "text/plain": "   SeedDiff  Result\n0         1       1\n1         5       1\n2       -15       1\n3         1       1\n4       -11       1",
            "text/html": "<div>\n<style scoped>\n    .dataframe tbody tr th:only-of-type {\n        vertical-align: middle;\n    }\n\n    .dataframe tbody tr th {\n        vertical-align: top;\n    }\n\n    .dataframe thead th {\n        text-align: right;\n    }\n</style>\n<table border=\"1\" class=\"dataframe\">\n  <thead>\n    <tr style=\"text-align: right;\">\n      <th></th>\n      <th>SeedDiff</th>\n      <th>Result</th>\n    </tr>\n  </thead>\n  <tbody>\n    <tr>\n      <th>0</th>\n      <td>1</td>\n      <td>1</td>\n    </tr>\n    <tr>\n      <th>1</th>\n      <td>5</td>\n      <td>1</td>\n    </tr>\n    <tr>\n      <th>2</th>\n      <td>-15</td>\n      <td>1</td>\n    </tr>\n    <tr>\n      <th>3</th>\n      <td>1</td>\n      <td>1</td>\n    </tr>\n    <tr>\n      <th>4</th>\n      <td>-11</td>\n      <td>1</td>\n    </tr>\n  </tbody>\n</table>\n</div>"
          },
          "metadata": {}
        }
      ]
    },
    {
      "metadata": {
        "trusted": true,
        "_uuid": "3cf1b39303c44e73a3fa0f813a9580e91eca6b0b"
      },
      "cell_type": "code",
      "source": "X_train = df_predictions.SeedDiff.values.reshape(-1,1)\ny_train = df_predictions.Result.values\nX_train, y_train = shuffle(X_train, y_train)",
      "execution_count": 32,
      "outputs": []
    },
    {
      "metadata": {
        "_uuid": "563937f42bcccd2bbfb8fc1a66a72a9ca1351f43"
      },
      "cell_type": "markdown",
      "source": "## Train the model ##\nUse a basic logistic regression to train the model. You can set different C values to see how performance changes."
    },
    {
      "metadata": {
        "trusted": true,
        "_uuid": "95f817451eae9b72dc237e734e19c929be136d50"
      },
      "cell_type": "code",
      "source": "logreg = LogisticRegression()\nparams = {'C': np.logspace(start=-5, stop=3, num=9)}\nclf = GridSearchCV(logreg, params, scoring='neg_log_loss', refit=True)\nclf.fit(X_train, y_train)\nprint('Best log_loss: {:.4}, with best C: {}'.format(clf.best_score_, clf.best_params_['C']))",
      "execution_count": 34,
      "outputs": [
        {
          "output_type": "stream",
          "text": "Best log_loss: -0.5549, with best C: 0.01\n",
          "name": "stdout"
        },
        {
          "output_type": "stream",
          "text": "/opt/conda/lib/python3.6/site-packages/sklearn/model_selection/_split.py:2053: FutureWarning: You should specify a value for 'cv' instead of relying on the default value. The default value will change from 3 to 5 in version 0.22.\n  warnings.warn(CV_WARNING, FutureWarning)\n/opt/conda/lib/python3.6/site-packages/sklearn/linear_model/logistic.py:433: FutureWarning: Default solver will be changed to 'lbfgs' in 0.22. Specify a solver to silence this warning.\n  FutureWarning)\n/opt/conda/lib/python3.6/site-packages/sklearn/linear_model/logistic.py:433: FutureWarning: Default solver will be changed to 'lbfgs' in 0.22. Specify a solver to silence this warning.\n  FutureWarning)\n/opt/conda/lib/python3.6/site-packages/sklearn/linear_model/logistic.py:433: FutureWarning: Default solver will be changed to 'lbfgs' in 0.22. Specify a solver to silence this warning.\n  FutureWarning)\n/opt/conda/lib/python3.6/site-packages/sklearn/linear_model/logistic.py:433: FutureWarning: Default solver will be changed to 'lbfgs' in 0.22. Specify a solver to silence this warning.\n  FutureWarning)\n/opt/conda/lib/python3.6/site-packages/sklearn/linear_model/logistic.py:433: FutureWarning: Default solver will be changed to 'lbfgs' in 0.22. Specify a solver to silence this warning.\n  FutureWarning)\n/opt/conda/lib/python3.6/site-packages/sklearn/linear_model/logistic.py:433: FutureWarning: Default solver will be changed to 'lbfgs' in 0.22. Specify a solver to silence this warning.\n  FutureWarning)\n/opt/conda/lib/python3.6/site-packages/sklearn/linear_model/logistic.py:433: FutureWarning: Default solver will be changed to 'lbfgs' in 0.22. Specify a solver to silence this warning.\n  FutureWarning)\n/opt/conda/lib/python3.6/site-packages/sklearn/linear_model/logistic.py:433: FutureWarning: Default solver will be changed to 'lbfgs' in 0.22. Specify a solver to silence this warning.\n  FutureWarning)\n/opt/conda/lib/python3.6/site-packages/sklearn/linear_model/logistic.py:433: FutureWarning: Default solver will be changed to 'lbfgs' in 0.22. Specify a solver to silence this warning.\n  FutureWarning)\n/opt/conda/lib/python3.6/site-packages/sklearn/linear_model/logistic.py:433: FutureWarning: Default solver will be changed to 'lbfgs' in 0.22. Specify a solver to silence this warning.\n  FutureWarning)\n/opt/conda/lib/python3.6/site-packages/sklearn/linear_model/logistic.py:433: FutureWarning: Default solver will be changed to 'lbfgs' in 0.22. Specify a solver to silence this warning.\n  FutureWarning)\n/opt/conda/lib/python3.6/site-packages/sklearn/linear_model/logistic.py:433: FutureWarning: Default solver will be changed to 'lbfgs' in 0.22. Specify a solver to silence this warning.\n  FutureWarning)\n/opt/conda/lib/python3.6/site-packages/sklearn/linear_model/logistic.py:433: FutureWarning: Default solver will be changed to 'lbfgs' in 0.22. Specify a solver to silence this warning.\n  FutureWarning)\n/opt/conda/lib/python3.6/site-packages/sklearn/linear_model/logistic.py:433: FutureWarning: Default solver will be changed to 'lbfgs' in 0.22. Specify a solver to silence this warning.\n  FutureWarning)\n/opt/conda/lib/python3.6/site-packages/sklearn/linear_model/logistic.py:433: FutureWarning: Default solver will be changed to 'lbfgs' in 0.22. Specify a solver to silence this warning.\n  FutureWarning)\n/opt/conda/lib/python3.6/site-packages/sklearn/linear_model/logistic.py:433: FutureWarning: Default solver will be changed to 'lbfgs' in 0.22. Specify a solver to silence this warning.\n  FutureWarning)\n/opt/conda/lib/python3.6/site-packages/sklearn/linear_model/logistic.py:433: FutureWarning: Default solver will be changed to 'lbfgs' in 0.22. Specify a solver to silence this warning.\n  FutureWarning)\n/opt/conda/lib/python3.6/site-packages/sklearn/linear_model/logistic.py:433: FutureWarning: Default solver will be changed to 'lbfgs' in 0.22. Specify a solver to silence this warning.\n  FutureWarning)\n/opt/conda/lib/python3.6/site-packages/sklearn/linear_model/logistic.py:433: FutureWarning: Default solver will be changed to 'lbfgs' in 0.22. Specify a solver to silence this warning.\n  FutureWarning)\n/opt/conda/lib/python3.6/site-packages/sklearn/linear_model/logistic.py:433: FutureWarning: Default solver will be changed to 'lbfgs' in 0.22. Specify a solver to silence this warning.\n  FutureWarning)\n/opt/conda/lib/python3.6/site-packages/sklearn/linear_model/logistic.py:433: FutureWarning: Default solver will be changed to 'lbfgs' in 0.22. Specify a solver to silence this warning.\n  FutureWarning)\n/opt/conda/lib/python3.6/site-packages/sklearn/linear_model/logistic.py:433: FutureWarning: Default solver will be changed to 'lbfgs' in 0.22. Specify a solver to silence this warning.\n  FutureWarning)\n/opt/conda/lib/python3.6/site-packages/sklearn/linear_model/logistic.py:433: FutureWarning: Default solver will be changed to 'lbfgs' in 0.22. Specify a solver to silence this warning.\n  FutureWarning)\n/opt/conda/lib/python3.6/site-packages/sklearn/linear_model/logistic.py:433: FutureWarning: Default solver will be changed to 'lbfgs' in 0.22. Specify a solver to silence this warning.\n  FutureWarning)\n/opt/conda/lib/python3.6/site-packages/sklearn/linear_model/logistic.py:433: FutureWarning: Default solver will be changed to 'lbfgs' in 0.22. Specify a solver to silence this warning.\n  FutureWarning)\n/opt/conda/lib/python3.6/site-packages/sklearn/linear_model/logistic.py:433: FutureWarning: Default solver will be changed to 'lbfgs' in 0.22. Specify a solver to silence this warning.\n  FutureWarning)\n/opt/conda/lib/python3.6/site-packages/sklearn/linear_model/logistic.py:433: FutureWarning: Default solver will be changed to 'lbfgs' in 0.22. Specify a solver to silence this warning.\n  FutureWarning)\n/opt/conda/lib/python3.6/site-packages/sklearn/linear_model/logistic.py:433: FutureWarning: Default solver will be changed to 'lbfgs' in 0.22. Specify a solver to silence this warning.\n  FutureWarning)\n",
          "name": "stderr"
        }
      ]
    },
    {
      "metadata": {
        "trusted": true,
        "_uuid": "37e01a2b50f69e1f6a0aeaa50c7593d8cae15b1b"
      },
      "cell_type": "code",
      "source": "X = np.arange(-10, 10).reshape(-1, 1)\npreds = clf.predict_proba(X)[:,1]\n\nplt.plot(X, preds)\nplt.xlabel('Team1 seed - Team2 seed')\nplt.ylabel('P(Team1 will win)')",
      "execution_count": 35,
      "outputs": [
        {
          "output_type": "execute_result",
          "execution_count": 35,
          "data": {
            "text/plain": "Text(0,0.5,'P(Team1 will win)')"
          },
          "metadata": {}
        },
        {
          "output_type": "display_data",
          "data": {
            "text/plain": "<Figure size 432x288 with 1 Axes>",
            "image/png": "[encoded data removed]"
          },
          "metadata": {}
        }
      ]
    },
    {
      "metadata": {
        "_uuid": "3e8270e8638b6f78317b7f787cc0259af682dba7"
      },
      "cell_type": "markdown",
      "source": "Plotting validates our intuition, that the probability a team will win decreases as the seed differential to its opponent decreases."
    },
    {
      "metadata": {
        "trusted": true,
        "_uuid": "cd5a427eca09adda4e9a42a88208b683020a1f8d"
      },
      "cell_type": "code",
      "source": "df_sample_sub = pd.read_csv(data_dir + 'SampleSubmissionStage2.csv')\nn_test_games = len(df_sample_sub)\n\ndef get_year_t1_t2(ID):\n    \"\"\"Return a tuple with ints `year`, `team1` and `team2`.\"\"\"\n    return (int(x) for x in ID.split('_'))",
      "execution_count": 36,
      "outputs": []
    },
    {
      "metadata": {
        "trusted": true,
        "_uuid": "72d64ebc20c903660108ae9c529be07859396909"
      },
      "cell_type": "code",
      "source": "X_test = np.zeros(shape=(n_test_games, 1))\nfor ii, row in df_sample_sub.iterrows():\n    year, t1, t2 = get_year_t1_t2(row.ID)\n    t1_seed = df_seeds[(df_seeds.TeamID == t1) & (df_seeds.Season == year)].seed_int.values[0]\n    t2_seed = df_seeds[(df_seeds.TeamID == t2) & (df_seeds.Season == year)].seed_int.values[0]\n    diff_seed = t1_seed - t2_seed\n    X_test[ii, 0] = diff_seed",
      "execution_count": 40,
      "outputs": []
    },
    {
      "metadata": {
        "_uuid": "375748512c55520e00ffd5701c82704856478370"
      },
      "cell_type": "markdown",
      "source": "## Make Predictions ##\nCreate predictions using the logistic regression model we trained."
    },
    {
      "metadata": {
        "trusted": true,
        "_uuid": "65dc063a2e9c5e447d800556f7cf67b26b7cbedb"
      },
      "cell_type": "code",
      "source": "preds = clf.predict_proba(X_test)[:,1]\n\nclipped_preds = np.clip(preds, 0.05, 0.95)\ndf_sample_sub.Pred = clipped_preds\ndf_sample_sub.head()",
      "execution_count": 42,
      "outputs": [
        {
          "output_type": "execute_result",
          "execution_count": 42,
          "data": {
            "text/plain": "               ID      Pred\n0  2019_1101_1113  0.339754\n1  2019_1101_1120  0.159631\n2  2019_1101_1124  0.269613\n3  2019_1101_1125  0.339754\n4  2019_1101_1133  0.500000",
            "text/html": "<div>\n<style scoped>\n    .dataframe tbody tr th:only-of-type {\n        vertical-align: middle;\n    }\n\n    .dataframe tbody tr th {\n        vertical-align: top;\n    }\n\n    .dataframe thead th {\n        text-align: right;\n    }\n</style>\n<table border=\"1\" class=\"dataframe\">\n  <thead>\n    <tr style=\"text-align: right;\">\n      <th></th>\n      <th>ID</th>\n      <th>Pred</th>\n    </tr>\n  </thead>\n  <tbody>\n    <tr>\n      <th>0</th>\n      <td>2019_1101_1113</td>\n      <td>0.339754</td>\n    </tr>\n    <tr>\n      <th>1</th>\n      <td>2019_1101_1120</td>\n      <td>0.159631</td>\n    </tr>\n    <tr>\n      <th>2</th>\n      <td>2019_1101_1124</td>\n      <td>0.269613</td>\n    </tr>\n    <tr>\n      <th>3</th>\n      <td>2019_1101_1125</td>\n      <td>0.339754</td>\n    </tr>\n    <tr>\n      <th>4</th>\n      <td>2019_1101_1133</td>\n      <td>0.500000</td>\n    </tr>\n  </tbody>\n</table>\n</div>"
          },
          "metadata": {}
        }
      ]
    },
    {
      "metadata": {
        "_uuid": "3f4ef6ab893953a811462d240778205c2fdecf97"
      },
      "cell_type": "markdown",
      "source": "Lastly, create your submission file!"
    },
    {
      "metadata": {
        "trusted": true,
        "_uuid": "7c784a9b62d889e83493b70efa17bd233f9abff4"
      },
      "cell_type": "code",
      "source": "df_sample_sub.to_csv('logreg_seed_starter_2019.csv', index=False)",
      "execution_count": 43,
      "outputs": []
    },
    {
      "metadata": {
        "trusted": true,
        "_uuid": "cfee4b950ad0c31312080991412e15c178e3d692"
      },
      "cell_type": "code",
      "source": "",
      "execution_count": null,
      "outputs": []
    }
  ],
  "metadata": {
    "language_info": {
      "name": "python",
      "version": "3.6.6",
      "mimetype": "text/x-python",
      "codemirror_mode": {
        "name": "ipython",
        "version": 3
      },
      "pygments_lexer": "ipython3",
      "nbconvert_exporter": "python",
      "file_extension": ".py"
    },
    "kernelspec": {
      "display_name": "Python 3",
      "language": "python",
      "name": "python3"
    }
  },
  "nbformat": 4,
  "nbformat_minor": 1
}